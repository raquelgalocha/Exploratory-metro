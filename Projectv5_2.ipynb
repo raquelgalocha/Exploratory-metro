{
 "cells": [
  {
   "cell_type": "markdown",
   "id": "b47a0282",
   "metadata": {},
   "source": [
    "# SUSTAINABLE MOBILITY"
   ]
  },
  {
   "cell_type": "markdown",
   "id": "3a5bdd8e",
   "metadata": {},
   "source": [
    "Group members:\n",
    "- Carles Alfageme: s212750\n",
    "- Joost Benrath: s212696\n",
    "- Elena Vico: s12369"
   ]
  },
  {
   "cell_type": "markdown",
   "id": "f405875c",
   "metadata": {},
   "source": [
    "# Appendices\n",
    "## Apendix 1"
   ]
  },
  {
   "cell_type": "code",
   "execution_count": 1,
   "id": "cd7c71d9",
   "metadata": {},
   "outputs": [],
   "source": [
    "import numpy as np\n",
    "import pandas as pd"
   ]
  },
  {
   "cell_type": "code",
   "execution_count": 2,
   "id": "faa48d3c",
   "metadata": {},
   "outputs": [],
   "source": [
    "#Function for creting lagged features\n",
    "def buildLaggedFeatures(s,columns, lag=2,dropna=True):\n",
    "    '''\n",
    "    From http://stackoverflow.com/questions/20410312/how-to-create-a-lagged-data-structure-using-pandas-dataframe\n",
    "    Builds a new DataFrame to facilitate regressing over all possible lagged features\n",
    "    '''\n",
    "    if type(s) is pd.DataFrame:\n",
    "        new_dict={}\n",
    "        for c in s.columns:\n",
    "            new_dict[c]=s[c]\n",
    "        for col_name in columns:\n",
    "            new_dict[col_name]=s[col_name]\n",
    "            # create lagged Series\n",
    "            for l in range(1,lag+1):\n",
    "                new_dict['%s_lag%d' %(col_name,l)]=s[col_name].shift(l)\n",
    "        res=pd.DataFrame(new_dict,index=s.index)\n",
    "\n",
    "    elif type(s) is pd.Series:\n",
    "        the_range=range(lag+1)\n",
    "        res=pd.concat([s.shift(i) for i in the_range],axis=1)\n",
    "        res.columns=['lag_%d' %i for i in the_range]\n",
    "    else:\n",
    "        print('Only works for DataFrame or Series')\n",
    "        return None\n",
    "    if dropna:\n",
    "        return res.dropna()\n",
    "    else:\n",
    "        return res"
   ]
  },
  {
   "cell_type": "markdown",
   "id": "4b528b2f",
   "metadata": {},
   "source": [
    "## Appendix 2"
   ]
  },
  {
   "cell_type": "code",
   "execution_count": 3,
   "id": "1488d1ce",
   "metadata": {},
   "outputs": [],
   "source": [
    "def compute_error(y_true, y_pred, nvariables = 2):\n",
    "    mae = np.mean(np.abs(y_pred - y_true))\n",
    "    mape = np.mean(np.abs((y_true - y_pred) / y_true)) * 100\n",
    "    rmse = np.sqrt(np.mean((y_pred - y_true)**2))\n",
    "    r_squared = max(0, 1 - np.sum((y_true-y_pred)**2) / np.sum((y_true - np.mean(y_true))**2))\n",
    "    adjustedr2 = 1 - (1-r_squared)*(len(y_true)-1)/(len(y_true)-nvariables-1)\n",
    "    return  mae, mape, rmse, r_squared, adjustedr2"
   ]
  },
  {
   "cell_type": "markdown",
   "id": "c8e4410d",
   "metadata": {},
   "source": [
    "# Section1: Introduction + Data analysis and visualization"
   ]
  },
  {
   "cell_type": "markdown",
   "id": "bbdfe385",
   "metadata": {},
   "source": [
    "This project consists in using data from Citi Bike (New York), one of the biggest station-based bike-sharing systems in the United States. The dataset includes more than 900 stations and 14000 bikes, and it contains over 17 million bike rides observed during 2018. This dataset has the general objective of helping City Bike operating at its best and of making bike sharing more attractive. On that purpose, the project is going to contain a prediction challenge where the number of pickups for the next 24 hours need to be predicted and an exploratory component where data is going to be analysed in order to determine causes that influence the number of pickups. "
   ]
  },
  {
   "cell_type": "code",
   "execution_count": 4,
   "id": "d149127d",
   "metadata": {},
   "outputs": [],
   "source": [
    "import matplotlib.pyplot as plt\n",
    "import datetime as dt\n",
    "%matplotlib inline"
   ]
  },
  {
   "cell_type": "code",
   "execution_count": 5,
   "id": "4acc19ba",
   "metadata": {},
   "outputs": [],
   "source": [
    "# plot styles\n",
    "plt.style.use('ggplot')\n",
    "plt.rcParams['figure.figsize'] = (15, 8)"
   ]
  },
  {
   "cell_type": "code",
   "execution_count": 6,
   "id": "7a2cef6b",
   "metadata": {},
   "outputs": [
    {
     "data": {
      "text/html": [
       "<div>\n",
       "<style scoped>\n",
       "    .dataframe tbody tr th:only-of-type {\n",
       "        vertical-align: middle;\n",
       "    }\n",
       "\n",
       "    .dataframe tbody tr th {\n",
       "        vertical-align: top;\n",
       "    }\n",
       "\n",
       "    .dataframe thead th {\n",
       "        text-align: right;\n",
       "    }\n",
       "</style>\n",
       "<table border=\"1\" class=\"dataframe\">\n",
       "  <thead>\n",
       "    <tr style=\"text-align: right;\">\n",
       "      <th></th>\n",
       "      <th>Unnamed: 0</th>\n",
       "      <th>tripduration</th>\n",
       "      <th>starttime</th>\n",
       "      <th>stoptime</th>\n",
       "      <th>start_station_id</th>\n",
       "      <th>start_station_latitude</th>\n",
       "      <th>start_station_longitude</th>\n",
       "      <th>end_station_id</th>\n",
       "      <th>end_station_latitude</th>\n",
       "      <th>end_station_longitude</th>\n",
       "      <th>bikeid</th>\n",
       "      <th>usertype</th>\n",
       "      <th>birth_year</th>\n",
       "      <th>gender</th>\n",
       "    </tr>\n",
       "  </thead>\n",
       "  <tbody>\n",
       "    <tr>\n",
       "      <th>0</th>\n",
       "      <td>0</td>\n",
       "      <td>970</td>\n",
       "      <td>2018-01-01 13:50:57.4340</td>\n",
       "      <td>2018-01-01 14:07:08.1860</td>\n",
       "      <td>72.0</td>\n",
       "      <td>40.767272</td>\n",
       "      <td>-73.993929</td>\n",
       "      <td>505.0</td>\n",
       "      <td>40.749013</td>\n",
       "      <td>-73.988484</td>\n",
       "      <td>31956</td>\n",
       "      <td>Subscriber</td>\n",
       "      <td>1992.0</td>\n",
       "      <td>1.0</td>\n",
       "    </tr>\n",
       "    <tr>\n",
       "      <th>1</th>\n",
       "      <td>1</td>\n",
       "      <td>723</td>\n",
       "      <td>2018-01-01 15:33:30.1820</td>\n",
       "      <td>2018-01-01 15:45:33.3410</td>\n",
       "      <td>72.0</td>\n",
       "      <td>40.767272</td>\n",
       "      <td>-73.993929</td>\n",
       "      <td>3255.0</td>\n",
       "      <td>40.750585</td>\n",
       "      <td>-73.994685</td>\n",
       "      <td>32536</td>\n",
       "      <td>Subscriber</td>\n",
       "      <td>1969.0</td>\n",
       "      <td>1.0</td>\n",
       "    </tr>\n",
       "    <tr>\n",
       "      <th>2</th>\n",
       "      <td>2</td>\n",
       "      <td>496</td>\n",
       "      <td>2018-01-01 15:39:18.3370</td>\n",
       "      <td>2018-01-01 15:47:35.1720</td>\n",
       "      <td>72.0</td>\n",
       "      <td>40.767272</td>\n",
       "      <td>-73.993929</td>\n",
       "      <td>525.0</td>\n",
       "      <td>40.755942</td>\n",
       "      <td>-74.002116</td>\n",
       "      <td>16069</td>\n",
       "      <td>Subscriber</td>\n",
       "      <td>1956.0</td>\n",
       "      <td>1.0</td>\n",
       "    </tr>\n",
       "    <tr>\n",
       "      <th>3</th>\n",
       "      <td>3</td>\n",
       "      <td>306</td>\n",
       "      <td>2018-01-01 15:40:13.3720</td>\n",
       "      <td>2018-01-01 15:45:20.1910</td>\n",
       "      <td>72.0</td>\n",
       "      <td>40.767272</td>\n",
       "      <td>-73.993929</td>\n",
       "      <td>447.0</td>\n",
       "      <td>40.763707</td>\n",
       "      <td>-73.985162</td>\n",
       "      <td>31781</td>\n",
       "      <td>Subscriber</td>\n",
       "      <td>1974.0</td>\n",
       "      <td>1.0</td>\n",
       "    </tr>\n",
       "    <tr>\n",
       "      <th>4</th>\n",
       "      <td>4</td>\n",
       "      <td>306</td>\n",
       "      <td>2018-01-01 18:14:51.5680</td>\n",
       "      <td>2018-01-01 18:19:57.6420</td>\n",
       "      <td>72.0</td>\n",
       "      <td>40.767272</td>\n",
       "      <td>-73.993929</td>\n",
       "      <td>3356.0</td>\n",
       "      <td>40.774667</td>\n",
       "      <td>-73.984706</td>\n",
       "      <td>30319</td>\n",
       "      <td>Subscriber</td>\n",
       "      <td>1992.0</td>\n",
       "      <td>1.0</td>\n",
       "    </tr>\n",
       "  </tbody>\n",
       "</table>\n",
       "</div>"
      ],
      "text/plain": [
       "   Unnamed: 0  tripduration                 starttime  \\\n",
       "0           0           970  2018-01-01 13:50:57.4340   \n",
       "1           1           723  2018-01-01 15:33:30.1820   \n",
       "2           2           496  2018-01-01 15:39:18.3370   \n",
       "3           3           306  2018-01-01 15:40:13.3720   \n",
       "4           4           306  2018-01-01 18:14:51.5680   \n",
       "\n",
       "                   stoptime  start_station_id  start_station_latitude  \\\n",
       "0  2018-01-01 14:07:08.1860              72.0               40.767272   \n",
       "1  2018-01-01 15:45:33.3410              72.0               40.767272   \n",
       "2  2018-01-01 15:47:35.1720              72.0               40.767272   \n",
       "3  2018-01-01 15:45:20.1910              72.0               40.767272   \n",
       "4  2018-01-01 18:19:57.6420              72.0               40.767272   \n",
       "\n",
       "   start_station_longitude  end_station_id  end_station_latitude  \\\n",
       "0               -73.993929           505.0             40.749013   \n",
       "1               -73.993929          3255.0             40.750585   \n",
       "2               -73.993929           525.0             40.755942   \n",
       "3               -73.993929           447.0             40.763707   \n",
       "4               -73.993929          3356.0             40.774667   \n",
       "\n",
       "   end_station_longitude  bikeid    usertype  birth_year  gender  \n",
       "0             -73.988484   31956  Subscriber      1992.0     1.0  \n",
       "1             -73.994685   32536  Subscriber      1969.0     1.0  \n",
       "2             -74.002116   16069  Subscriber      1956.0     1.0  \n",
       "3             -73.985162   31781  Subscriber      1974.0     1.0  \n",
       "4             -73.984706   30319  Subscriber      1992.0     1.0  "
      ]
     },
     "execution_count": 6,
     "metadata": {},
     "output_type": "execute_result"
    }
   ],
   "source": [
    "df=pd.read_csv('Trips_2018.csv')\n",
    "df.head()"
   ]
  },
  {
   "cell_type": "markdown",
   "id": "a85c8a5c",
   "metadata": {},
   "source": [
    "## Data Cleaning"
   ]
  },
  {
   "cell_type": "markdown",
   "id": "dc9d3d5a",
   "metadata": {},
   "source": [
    "First, the dataset needs to be cleaned and some variables are going to be transformed. Missing values are going to be corrected or dropped. Categorical features are going to be transformed in order to get better data for the predictions."
   ]
  },
  {
   "cell_type": "markdown",
   "id": "bef547f0",
   "metadata": {},
   "source": [
    "Deleting the useless column Unnamed: 0 and transforming start and stop times to datetime objects:"
   ]
  },
  {
   "cell_type": "code",
   "execution_count": 7,
   "id": "87c6001a",
   "metadata": {},
   "outputs": [],
   "source": [
    "df=df.drop(columns='Unnamed: 0')\n",
    "df['starttime']=pd.to_datetime(df['starttime'],format='%Y-%m-%d %H:%M:%S')\n",
    "df['stoptime']=pd.to_datetime(df['stoptime'],format='%Y-%m-%d %H:%M:%S')"
   ]
  },
  {
   "cell_type": "markdown",
   "id": "19ffd1b6",
   "metadata": {},
   "source": [
    "Deleting rows with NaN values and transforming float variables to int:"
   ]
  },
  {
   "cell_type": "code",
   "execution_count": 8,
   "id": "0e2c3558",
   "metadata": {},
   "outputs": [],
   "source": [
    "df=df.dropna()\n",
    "df['start_station_id']=df['start_station_id'].astype(int)\n",
    "df['end_station_id']=df['end_station_id'].astype(int)\n",
    "df['bikeid']=df['bikeid'].astype(int)\n",
    "df['birth_year']=df['birth_year'].astype(int)"
   ]
  },
  {
   "cell_type": "markdown",
   "id": "aa1220ba",
   "metadata": {},
   "source": [
    "Apparently, there are some geographical coordinates that doesn't correspond to New York, but to Canada. They are then going to be removed. "
   ]
  },
  {
   "cell_type": "code",
   "execution_count": 9,
   "id": "bb8200a1",
   "metadata": {},
   "outputs": [
    {
     "data": {
      "text/plain": [
       "<function matplotlib.pyplot.show(close=None, block=None)>"
      ]
     },
     "execution_count": 9,
     "metadata": {},
     "output_type": "execute_result"
    },
    {
     "data": {
      "image/png": "[encoded data removed]",
      "text/plain": [
       "<Figure size 1080x576 with 1 Axes>"
      ]
     },
     "metadata": {},
     "output_type": "display_data"
    }
   ],
   "source": [
    "plt.scatter(df['start_station_latitude'],df['start_station_longitude'])\n",
    "plt.show"
   ]
  },
  {
   "cell_type": "code",
   "execution_count": 10,
   "id": "b1b3e1ed",
   "metadata": {},
   "outputs": [],
   "source": [
    "df=df[df['start_station_latitude']<43]\n",
    "df=df[df['end_station_latitude']<43]"
   ]
  },
  {
   "cell_type": "markdown",
   "id": "a9ca6ac1",
   "metadata": {},
   "source": [
    "It has been observed that some trip durations have values that just can be explained as errors in the data. It is impossible that trip durations can be of thousands of hours. To remove the outliers, it is going to be considered that durations of more than 24h are errors."
   ]
  },
  {
   "cell_type": "code",
   "execution_count": 11,
   "id": "dc3dd5bd",
   "metadata": {},
   "outputs": [],
   "source": [
    "duration_max=24*3600\n",
    "df=df[df['tripduration']<duration_max]"
   ]
  },
  {
   "cell_type": "markdown",
   "id": "e63f7f89",
   "metadata": {},
   "source": [
    "Performing a one-out-of K encoding to categorical features:"
   ]
  },
  {
   "cell_type": "code",
   "execution_count": 12,
   "id": "07cdacde",
   "metadata": {},
   "outputs": [],
   "source": [
    "df=pd.get_dummies(df,columns=['usertype','gender'],drop_first=False)\n",
    "df=df.rename(columns={'gender_0.0':'gender_unknown','gender_1.0':'gender_male','gender_2.0':'gender_female'})"
   ]
  },
  {
   "cell_type": "markdown",
   "id": "a23723d7",
   "metadata": {},
   "source": [
    "Data preparation"
   ]
  },
  {
   "cell_type": "code",
   "execution_count": 13,
   "id": "a0e8585d",
   "metadata": {},
   "outputs": [],
   "source": [
    "df['date']=[d.date() for d in df['starttime']]\n",
    "df['hour']=[d.hour for d in df['starttime']]\n",
    "df['date']=pd.to_datetime(df['date'],format='%Y-%m-%d')\n",
    "df['pickup']=1"
   ]
  },
  {
   "cell_type": "markdown",
   "id": "3f6db286",
   "metadata": {},
   "source": [
    "## Data analysis and visualization"
   ]
  },
  {
   "cell_type": "markdown",
   "id": "4eacecad",
   "metadata": {},
   "source": [
    "### Number of pickups per month"
   ]
  },
  {
   "cell_type": "code",
   "execution_count": 14,
   "id": "fcfb8f7d",
   "metadata": {},
   "outputs": [],
   "source": [
    "pickups_months=df.groupby(df['date'].dt.month)['date'].count()\n",
    "months=['January','February','March','April','May','June','July','August','September','October','November','December']"
   ]
  },
  {
   "cell_type": "code",
   "execution_count": 15,
   "id": "ec9be19c",
   "metadata": {
    "scrolled": false
   },
   "outputs": [
    {
     "data": {
      "text/plain": [
       "<Figure size 1080x576 with 0 Axes>"
      ]
     },
     "metadata": {},
     "output_type": "display_data"
    },
    {
     "data": {
      "image/png": "[encoded data removed]",
      "text/plain": [
       "<Figure size 1080x360 with 1 Axes>"
      ]
     },
     "metadata": {},
     "output_type": "display_data"
    }
   ],
   "source": [
    "plt.figure(1)\n",
    "plt.figure(figsize=(15,5))\n",
    "plt.bar(months,pickups_months.values)\n",
    "plt.show()"
   ]
  },
  {
   "cell_type": "markdown",
   "id": "c837cff3",
   "metadata": {},
   "source": [
    "###  Total number of pickups per hour during the year"
   ]
  },
  {
   "cell_type": "code",
   "execution_count": 16,
   "id": "cc3cf09f",
   "metadata": {},
   "outputs": [
    {
     "data": {
      "text/plain": [
       "<Figure size 1080x576 with 0 Axes>"
      ]
     },
     "metadata": {},
     "output_type": "display_data"
    },
    {
     "data": {
      "image/png": "[encoded data removed]",
      "text/plain": [
       "<Figure size 1080x360 with 1 Axes>"
      ]
     },
     "metadata": {},
     "output_type": "display_data"
    }
   ],
   "source": [
    "pickups_hour=df.groupby(['hour'])['hour'].count()\n",
    "plt.figure(2)\n",
    "plt.figure(figsize=(15,5))\n",
    "plt.bar(pickups_hour.index,pickups_hour.values)\n",
    "plt.title('Number of pickups per hour during the year')\n",
    "plt.show()"
   ]
  },
  {
   "cell_type": "markdown",
   "id": "96f0d3ed",
   "metadata": {},
   "source": [
    "### Average number of pickups per hour"
   ]
  },
  {
   "cell_type": "code",
   "execution_count": 17,
   "id": "a04ed7ec",
   "metadata": {},
   "outputs": [],
   "source": [
    "average_pickups_hour=df.groupby(['date','hour'])['hour'].count()\n",
    "average_pickups_hour=pd.DataFrame(average_pickups_hour)\n",
    "average_pickups_hour=average_pickups_hour.rename(columns={'hour':'pickups'})\n",
    "average_pickups_hour=average_pickups_hour.groupby(['hour']).mean()"
   ]
  },
  {
   "cell_type": "code",
   "execution_count": 18,
   "id": "41b63316",
   "metadata": {},
   "outputs": [
    {
     "data": {
      "text/plain": [
       "<Figure size 1080x576 with 0 Axes>"
      ]
     },
     "metadata": {},
     "output_type": "display_data"
    },
    {
     "data": {
      "image/png": "[encoded data removed]",
      "text/plain": [
       "<Figure size 1080x360 with 1 Axes>"
      ]
     },
     "metadata": {},
     "output_type": "display_data"
    }
   ],
   "source": [
    "plt.figure(3)\n",
    "plt.figure(figsize=(15,5))\n",
    "plt.bar(average_pickups_hour.index,average_pickups_hour['pickups'])\n",
    "plt.show()"
   ]
  },
  {
   "cell_type": "markdown",
   "id": "0fa99566",
   "metadata": {},
   "source": [
    "### Pickups per day"
   ]
  },
  {
   "cell_type": "code",
   "execution_count": 19,
   "id": "32b76a69",
   "metadata": {},
   "outputs": [
    {
     "data": {
      "text/plain": [
       "[<matplotlib.lines.Line2D at 0x1f22cad1610>]"
      ]
     },
     "execution_count": 19,
     "metadata": {},
     "output_type": "execute_result"
    },
    {
     "data": {
      "image/png": "[encoded data removed]",
      "text/plain": [
       "<Figure size 1080x576 with 1 Axes>"
      ]
     },
     "metadata": {},
     "output_type": "display_data"
    }
   ],
   "source": [
    "pickups_day=df.groupby(['date'])['pickup'].count()\n",
    "plt.figure(3)\n",
    "plt.plot(pickups_day.index,pickups_day)"
   ]
  },
  {
   "cell_type": "markdown",
   "id": "e03bb29b",
   "metadata": {},
   "source": [
    "# Section2: Prediction Challenge"
   ]
  },
  {
   "cell_type": "markdown",
   "id": "b88bfdf0",
   "metadata": {},
   "source": [
    "## Creating a dataset for the prediction"
   ]
  },
  {
   "cell_type": "markdown",
   "id": "7b2b7fb0",
   "metadata": {},
   "source": [
    "In order to perform a prediction of pickups in the following 24 hours, a dataset is going to be built containing the previous 2 months pickups as features."
   ]
  },
  {
   "cell_type": "code",
   "execution_count": 20,
   "id": "c741a494",
   "metadata": {},
   "outputs": [
    {
     "data": {
      "text/html": [
       "<div>\n",
       "<style scoped>\n",
       "    .dataframe tbody tr th:only-of-type {\n",
       "        vertical-align: middle;\n",
       "    }\n",
       "\n",
       "    .dataframe tbody tr th {\n",
       "        vertical-align: top;\n",
       "    }\n",
       "\n",
       "    .dataframe thead th {\n",
       "        text-align: right;\n",
       "    }\n",
       "</style>\n",
       "<table border=\"1\" class=\"dataframe\">\n",
       "  <thead>\n",
       "    <tr style=\"text-align: right;\">\n",
       "      <th></th>\n",
       "      <th></th>\n",
       "      <th>pickups</th>\n",
       "    </tr>\n",
       "    <tr>\n",
       "      <th>date</th>\n",
       "      <th>hour</th>\n",
       "      <th></th>\n",
       "    </tr>\n",
       "  </thead>\n",
       "  <tbody>\n",
       "    <tr>\n",
       "      <th rowspan=\"5\" valign=\"top\">2018-01-01</th>\n",
       "      <th>0</th>\n",
       "      <td>64</td>\n",
       "    </tr>\n",
       "    <tr>\n",
       "      <th>1</th>\n",
       "      <td>103</td>\n",
       "    </tr>\n",
       "    <tr>\n",
       "      <th>2</th>\n",
       "      <td>57</td>\n",
       "    </tr>\n",
       "    <tr>\n",
       "      <th>3</th>\n",
       "      <td>37</td>\n",
       "    </tr>\n",
       "    <tr>\n",
       "      <th>4</th>\n",
       "      <td>20</td>\n",
       "    </tr>\n",
       "  </tbody>\n",
       "</table>\n",
       "</div>"
      ],
      "text/plain": [
       "                 pickups\n",
       "date       hour         \n",
       "2018-01-01 0          64\n",
       "           1         103\n",
       "           2          57\n",
       "           3          37\n",
       "           4          20"
      ]
     },
     "execution_count": 20,
     "metadata": {},
     "output_type": "execute_result"
    }
   ],
   "source": [
    "data=df.groupby(['date','hour'])['pickup'].count()\n",
    "df_pred=pd.DataFrame(data)\n",
    "#df_pred=df_pred.reset_index(level=[0,1])\n",
    "df_pred=df_pred.rename(columns={'pickup':'pickups'})\n",
    "df_pred.head()"
   ]
  },
  {
   "cell_type": "markdown",
   "id": "cfa5426a",
   "metadata": {},
   "source": [
    "We create a function for creating lagged features (see Appendix 1)"
   ]
  },
  {
   "cell_type": "code",
   "execution_count": 21,
   "id": "7132fa03",
   "metadata": {
    "scrolled": true
   },
   "outputs": [
    {
     "data": {
      "text/html": [
       "<div>\n",
       "<style scoped>\n",
       "    .dataframe tbody tr th:only-of-type {\n",
       "        vertical-align: middle;\n",
       "    }\n",
       "\n",
       "    .dataframe tbody tr th {\n",
       "        vertical-align: top;\n",
       "    }\n",
       "\n",
       "    .dataframe thead th {\n",
       "        text-align: right;\n",
       "    }\n",
       "</style>\n",
       "<table border=\"1\" class=\"dataframe\">\n",
       "  <thead>\n",
       "    <tr style=\"text-align: right;\">\n",
       "      <th></th>\n",
       "      <th></th>\n",
       "      <th>pickups</th>\n",
       "      <th>pickups_lag1</th>\n",
       "      <th>pickups_lag2</th>\n",
       "      <th>pickups_lag3</th>\n",
       "      <th>pickups_lag4</th>\n",
       "      <th>pickups_lag5</th>\n",
       "      <th>pickups_lag6</th>\n",
       "      <th>pickups_lag7</th>\n",
       "      <th>pickups_lag8</th>\n",
       "      <th>pickups_lag9</th>\n",
       "      <th>...</th>\n",
       "      <th>pickups_lag1431</th>\n",
       "      <th>pickups_lag1432</th>\n",
       "      <th>pickups_lag1433</th>\n",
       "      <th>pickups_lag1434</th>\n",
       "      <th>pickups_lag1435</th>\n",
       "      <th>pickups_lag1436</th>\n",
       "      <th>pickups_lag1437</th>\n",
       "      <th>pickups_lag1438</th>\n",
       "      <th>pickups_lag1439</th>\n",
       "      <th>pickups_lag1440</th>\n",
       "    </tr>\n",
       "    <tr>\n",
       "      <th>date</th>\n",
       "      <th>hour</th>\n",
       "      <th></th>\n",
       "      <th></th>\n",
       "      <th></th>\n",
       "      <th></th>\n",
       "      <th></th>\n",
       "      <th></th>\n",
       "      <th></th>\n",
       "      <th></th>\n",
       "      <th></th>\n",
       "      <th></th>\n",
       "      <th></th>\n",
       "      <th></th>\n",
       "      <th></th>\n",
       "      <th></th>\n",
       "      <th></th>\n",
       "      <th></th>\n",
       "      <th></th>\n",
       "      <th></th>\n",
       "      <th></th>\n",
       "      <th></th>\n",
       "      <th></th>\n",
       "    </tr>\n",
       "  </thead>\n",
       "  <tbody>\n",
       "  </tbody>\n",
       "</table>\n",
       "<p>0 rows × 1441 columns</p>\n",
       "</div>"
      ],
      "text/plain": [
       "Empty DataFrame\n",
       "Columns: [pickups, pickups_lag1, pickups_lag2, pickups_lag3, pickups_lag4, pickups_lag5, pickups_lag6, pickups_lag7, pickups_lag8, pickups_lag9, pickups_lag10, pickups_lag11, pickups_lag12, pickups_lag13, pickups_lag14, pickups_lag15, pickups_lag16, pickups_lag17, pickups_lag18, pickups_lag19, pickups_lag20, pickups_lag21, pickups_lag22, pickups_lag23, pickups_lag24, pickups_lag25, pickups_lag26, pickups_lag27, pickups_lag28, pickups_lag29, pickups_lag30, pickups_lag31, pickups_lag32, pickups_lag33, pickups_lag34, pickups_lag35, pickups_lag36, pickups_lag37, pickups_lag38, pickups_lag39, pickups_lag40, pickups_lag41, pickups_lag42, pickups_lag43, pickups_lag44, pickups_lag45, pickups_lag46, pickups_lag47, pickups_lag48, pickups_lag49, pickups_lag50, pickups_lag51, pickups_lag52, pickups_lag53, pickups_lag54, pickups_lag55, pickups_lag56, pickups_lag57, pickups_lag58, pickups_lag59, pickups_lag60, pickups_lag61, pickups_lag62, pickups_lag63, pickups_lag64, pickups_lag65, pickups_lag66, pickups_lag67, pickups_lag68, pickups_lag69, pickups_lag70, pickups_lag71, pickups_lag72, pickups_lag73, pickups_lag74, pickups_lag75, pickups_lag76, pickups_lag77, pickups_lag78, pickups_lag79, pickups_lag80, pickups_lag81, pickups_lag82, pickups_lag83, pickups_lag84, pickups_lag85, pickups_lag86, pickups_lag87, pickups_lag88, pickups_lag89, pickups_lag90, pickups_lag91, pickups_lag92, pickups_lag93, pickups_lag94, pickups_lag95, pickups_lag96, pickups_lag97, pickups_lag98, pickups_lag99, ...]\n",
       "Index: []\n",
       "\n",
       "[0 rows x 1441 columns]"
      ]
     },
     "execution_count": 21,
     "metadata": {},
     "output_type": "execute_result"
    }
   ],
   "source": [
    "two_months=30*2*24\n",
    "df_lagged=buildLaggedFeatures(df_pred, ['pickups'], lag=two_months)\n",
    "df_lagged.head()"
   ]
  },
  {
   "cell_type": "code",
   "execution_count": 22,
   "id": "86b445ea",
   "metadata": {},
   "outputs": [],
   "source": [
    "y=df_lagged['pickups']"
   ]
  },
  {
   "cell_type": "code",
   "execution_count": 23,
   "id": "e7d12263",
   "metadata": {},
   "outputs": [
    {
     "data": {
      "text/html": [
       "<div>\n",
       "<style scoped>\n",
       "    .dataframe tbody tr th:only-of-type {\n",
       "        vertical-align: middle;\n",
       "    }\n",
       "\n",
       "    .dataframe tbody tr th {\n",
       "        vertical-align: top;\n",
       "    }\n",
       "\n",
       "    .dataframe thead th {\n",
       "        text-align: right;\n",
       "    }\n",
       "</style>\n",
       "<table border=\"1\" class=\"dataframe\">\n",
       "  <thead>\n",
       "    <tr style=\"text-align: right;\">\n",
       "      <th></th>\n",
       "      <th></th>\n",
       "      <th>pickups_lag24</th>\n",
       "      <th>pickups_lag25</th>\n",
       "      <th>pickups_lag26</th>\n",
       "      <th>pickups_lag27</th>\n",
       "      <th>pickups_lag28</th>\n",
       "      <th>pickups_lag29</th>\n",
       "      <th>pickups_lag30</th>\n",
       "      <th>pickups_lag31</th>\n",
       "      <th>pickups_lag32</th>\n",
       "      <th>pickups_lag33</th>\n",
       "      <th>...</th>\n",
       "      <th>pickups_lag1431</th>\n",
       "      <th>pickups_lag1432</th>\n",
       "      <th>pickups_lag1433</th>\n",
       "      <th>pickups_lag1434</th>\n",
       "      <th>pickups_lag1435</th>\n",
       "      <th>pickups_lag1436</th>\n",
       "      <th>pickups_lag1437</th>\n",
       "      <th>pickups_lag1438</th>\n",
       "      <th>pickups_lag1439</th>\n",
       "      <th>pickups_lag1440</th>\n",
       "    </tr>\n",
       "    <tr>\n",
       "      <th>date</th>\n",
       "      <th>hour</th>\n",
       "      <th></th>\n",
       "      <th></th>\n",
       "      <th></th>\n",
       "      <th></th>\n",
       "      <th></th>\n",
       "      <th></th>\n",
       "      <th></th>\n",
       "      <th></th>\n",
       "      <th></th>\n",
       "      <th></th>\n",
       "      <th></th>\n",
       "      <th></th>\n",
       "      <th></th>\n",
       "      <th></th>\n",
       "      <th></th>\n",
       "      <th></th>\n",
       "      <th></th>\n",
       "      <th></th>\n",
       "      <th></th>\n",
       "      <th></th>\n",
       "      <th></th>\n",
       "    </tr>\n",
       "  </thead>\n",
       "  <tbody>\n",
       "  </tbody>\n",
       "</table>\n",
       "<p>0 rows × 1417 columns</p>\n",
       "</div>"
      ],
      "text/plain": [
       "Empty DataFrame\n",
       "Columns: [pickups_lag24, pickups_lag25, pickups_lag26, pickups_lag27, pickups_lag28, pickups_lag29, pickups_lag30, pickups_lag31, pickups_lag32, pickups_lag33, pickups_lag34, pickups_lag35, pickups_lag36, pickups_lag37, pickups_lag38, pickups_lag39, pickups_lag40, pickups_lag41, pickups_lag42, pickups_lag43, pickups_lag44, pickups_lag45, pickups_lag46, pickups_lag47, pickups_lag48, pickups_lag49, pickups_lag50, pickups_lag51, pickups_lag52, pickups_lag53, pickups_lag54, pickups_lag55, pickups_lag56, pickups_lag57, pickups_lag58, pickups_lag59, pickups_lag60, pickups_lag61, pickups_lag62, pickups_lag63, pickups_lag64, pickups_lag65, pickups_lag66, pickups_lag67, pickups_lag68, pickups_lag69, pickups_lag70, pickups_lag71, pickups_lag72, pickups_lag73, pickups_lag74, pickups_lag75, pickups_lag76, pickups_lag77, pickups_lag78, pickups_lag79, pickups_lag80, pickups_lag81, pickups_lag82, pickups_lag83, pickups_lag84, pickups_lag85, pickups_lag86, pickups_lag87, pickups_lag88, pickups_lag89, pickups_lag90, pickups_lag91, pickups_lag92, pickups_lag93, pickups_lag94, pickups_lag95, pickups_lag96, pickups_lag97, pickups_lag98, pickups_lag99, pickups_lag100, pickups_lag101, pickups_lag102, pickups_lag103, pickups_lag104, pickups_lag105, pickups_lag106, pickups_lag107, pickups_lag108, pickups_lag109, pickups_lag110, pickups_lag111, pickups_lag112, pickups_lag113, pickups_lag114, pickups_lag115, pickups_lag116, pickups_lag117, pickups_lag118, pickups_lag119, pickups_lag120, pickups_lag121, pickups_lag122, pickups_lag123, ...]\n",
       "Index: []\n",
       "\n",
       "[0 rows x 1417 columns]"
      ]
     },
     "execution_count": 23,
     "metadata": {},
     "output_type": "execute_result"
    }
   ],
   "source": [
    "col=np.arange(0,24,1)\n",
    "col\n",
    "x=df_lagged.drop(df_lagged.columns[col],axis=1)\n",
    "x_and_y=x.copy()\n",
    "x_and_y.insert(loc=0,column='pickups',value=y)\n",
    "x.head()"
   ]
  },
  {
   "cell_type": "markdown",
   "id": "8a54c9c8",
   "metadata": {},
   "source": [
    "In order to get the predictions of the next 24 hours, first 24 lagged columns have been dropped. This way, the model can predict without needing the 24 hours before. "
   ]
  },
  {
   "cell_type": "markdown",
   "id": "3602d130",
   "metadata": {},
   "source": [
    "Including the number of pickups per hour of the previous 2 months means that  dataset has a high number of columns that are maybe not so useful and are just there adding data without value. In order to perform a dimension reduction, a PCA analysis is going to be performed. "
   ]
  },
  {
   "cell_type": "markdown",
   "id": "4c83e38c",
   "metadata": {},
   "source": [
    "### PCA Analysis"
   ]
  },
  {
   "cell_type": "code",
   "execution_count": 24,
   "id": "efcd47a3",
   "metadata": {},
   "outputs": [
    {
     "ename": "ValueError",
     "evalue": "Found array with 0 sample(s) (shape=(0, 1417)) while a minimum of 1 is required.",
     "output_type": "error",
     "traceback": [
      "\u001b[1;31m---------------------------------------------------------------------------\u001b[0m",
      "\u001b[1;31mValueError\u001b[0m                                Traceback (most recent call last)",
      "\u001b[1;32m<ipython-input-24-604e66b0b6e9>\u001b[0m in \u001b[0;36m<module>\u001b[1;34m\u001b[0m\n\u001b[0;32m      1\u001b[0m \u001b[1;32mfrom\u001b[0m \u001b[0msklearn\u001b[0m \u001b[1;32mimport\u001b[0m \u001b[0mdecomposition\u001b[0m\u001b[1;33m\u001b[0m\u001b[1;33m\u001b[0m\u001b[0m\n\u001b[0;32m      2\u001b[0m \u001b[0mpca\u001b[0m\u001b[1;33m=\u001b[0m\u001b[0mdecomposition\u001b[0m\u001b[1;33m.\u001b[0m\u001b[0mPCA\u001b[0m\u001b[1;33m(\u001b[0m\u001b[1;33m)\u001b[0m\u001b[1;33m\u001b[0m\u001b[1;33m\u001b[0m\u001b[0m\n\u001b[1;32m----> 3\u001b[1;33m \u001b[0mpca\u001b[0m\u001b[1;33m.\u001b[0m\u001b[0mfit\u001b[0m\u001b[1;33m(\u001b[0m\u001b[0mx\u001b[0m\u001b[1;33m)\u001b[0m\u001b[1;33m\u001b[0m\u001b[1;33m\u001b[0m\u001b[0m\n\u001b[0m",
      "\u001b[1;32m~\\anaconda3\\lib\\site-packages\\sklearn\\decomposition\\_pca.py\u001b[0m in \u001b[0;36mfit\u001b[1;34m(self, X, y)\u001b[0m\n\u001b[0;32m    350\u001b[0m             \u001b[0mReturns\u001b[0m \u001b[0mthe\u001b[0m \u001b[0minstance\u001b[0m \u001b[0mitself\u001b[0m\u001b[1;33m.\u001b[0m\u001b[1;33m\u001b[0m\u001b[1;33m\u001b[0m\u001b[0m\n\u001b[0;32m    351\u001b[0m         \"\"\"\n\u001b[1;32m--> 352\u001b[1;33m         \u001b[0mself\u001b[0m\u001b[1;33m.\u001b[0m\u001b[0m_fit\u001b[0m\u001b[1;33m(\u001b[0m\u001b[0mX\u001b[0m\u001b[1;33m)\u001b[0m\u001b[1;33m\u001b[0m\u001b[1;33m\u001b[0m\u001b[0m\n\u001b[0m\u001b[0;32m    353\u001b[0m         \u001b[1;32mreturn\u001b[0m \u001b[0mself\u001b[0m\u001b[1;33m\u001b[0m\u001b[1;33m\u001b[0m\u001b[0m\n\u001b[0;32m    354\u001b[0m \u001b[1;33m\u001b[0m\u001b[0m\n",
      "\u001b[1;32m~\\anaconda3\\lib\\site-packages\\sklearn\\decomposition\\_pca.py\u001b[0m in \u001b[0;36m_fit\u001b[1;34m(self, X)\u001b[0m\n\u001b[0;32m    395\u001b[0m                             'TruncatedSVD for a possible alternative.')\n\u001b[0;32m    396\u001b[0m \u001b[1;33m\u001b[0m\u001b[0m\n\u001b[1;32m--> 397\u001b[1;33m         X = self._validate_data(X, dtype=[np.float64, np.float32],\n\u001b[0m\u001b[0;32m    398\u001b[0m                                 ensure_2d=True, copy=self.copy)\n\u001b[0;32m    399\u001b[0m \u001b[1;33m\u001b[0m\u001b[0m\n",
      "\u001b[1;32m~\\anaconda3\\lib\\site-packages\\sklearn\\base.py\u001b[0m in \u001b[0;36m_validate_data\u001b[1;34m(self, X, y, reset, validate_separately, **check_params)\u001b[0m\n\u001b[0;32m    419\u001b[0m             \u001b[0mout\u001b[0m \u001b[1;33m=\u001b[0m \u001b[0mX\u001b[0m\u001b[1;33m\u001b[0m\u001b[1;33m\u001b[0m\u001b[0m\n\u001b[0;32m    420\u001b[0m         \u001b[1;32melif\u001b[0m \u001b[0misinstance\u001b[0m\u001b[1;33m(\u001b[0m\u001b[0my\u001b[0m\u001b[1;33m,\u001b[0m \u001b[0mstr\u001b[0m\u001b[1;33m)\u001b[0m \u001b[1;32mand\u001b[0m \u001b[0my\u001b[0m \u001b[1;33m==\u001b[0m \u001b[1;34m'no_validation'\u001b[0m\u001b[1;33m:\u001b[0m\u001b[1;33m\u001b[0m\u001b[1;33m\u001b[0m\u001b[0m\n\u001b[1;32m--> 421\u001b[1;33m             \u001b[0mX\u001b[0m \u001b[1;33m=\u001b[0m \u001b[0mcheck_array\u001b[0m\u001b[1;33m(\u001b[0m\u001b[0mX\u001b[0m\u001b[1;33m,\u001b[0m \u001b[1;33m**\u001b[0m\u001b[0mcheck_params\u001b[0m\u001b[1;33m)\u001b[0m\u001b[1;33m\u001b[0m\u001b[1;33m\u001b[0m\u001b[0m\n\u001b[0m\u001b[0;32m    422\u001b[0m             \u001b[0mout\u001b[0m \u001b[1;33m=\u001b[0m \u001b[0mX\u001b[0m\u001b[1;33m\u001b[0m\u001b[1;33m\u001b[0m\u001b[0m\n\u001b[0;32m    423\u001b[0m         \u001b[1;32melse\u001b[0m\u001b[1;33m:\u001b[0m\u001b[1;33m\u001b[0m\u001b[1;33m\u001b[0m\u001b[0m\n",
      "\u001b[1;32m~\\anaconda3\\lib\\site-packages\\sklearn\\utils\\validation.py\u001b[0m in \u001b[0;36minner_f\u001b[1;34m(*args, **kwargs)\u001b[0m\n\u001b[0;32m     61\u001b[0m             \u001b[0mextra_args\u001b[0m \u001b[1;33m=\u001b[0m \u001b[0mlen\u001b[0m\u001b[1;33m(\u001b[0m\u001b[0margs\u001b[0m\u001b[1;33m)\u001b[0m \u001b[1;33m-\u001b[0m \u001b[0mlen\u001b[0m\u001b[1;33m(\u001b[0m\u001b[0mall_args\u001b[0m\u001b[1;33m)\u001b[0m\u001b[1;33m\u001b[0m\u001b[1;33m\u001b[0m\u001b[0m\n\u001b[0;32m     62\u001b[0m             \u001b[1;32mif\u001b[0m \u001b[0mextra_args\u001b[0m \u001b[1;33m<=\u001b[0m \u001b[1;36m0\u001b[0m\u001b[1;33m:\u001b[0m\u001b[1;33m\u001b[0m\u001b[1;33m\u001b[0m\u001b[0m\n\u001b[1;32m---> 63\u001b[1;33m                 \u001b[1;32mreturn\u001b[0m \u001b[0mf\u001b[0m\u001b[1;33m(\u001b[0m\u001b[1;33m*\u001b[0m\u001b[0margs\u001b[0m\u001b[1;33m,\u001b[0m \u001b[1;33m**\u001b[0m\u001b[0mkwargs\u001b[0m\u001b[1;33m)\u001b[0m\u001b[1;33m\u001b[0m\u001b[1;33m\u001b[0m\u001b[0m\n\u001b[0m\u001b[0;32m     64\u001b[0m \u001b[1;33m\u001b[0m\u001b[0m\n\u001b[0;32m     65\u001b[0m             \u001b[1;31m# extra_args > 0\u001b[0m\u001b[1;33m\u001b[0m\u001b[1;33m\u001b[0m\u001b[1;33m\u001b[0m\u001b[0m\n",
      "\u001b[1;32m~\\anaconda3\\lib\\site-packages\\sklearn\\utils\\validation.py\u001b[0m in \u001b[0;36mcheck_array\u001b[1;34m(array, accept_sparse, accept_large_sparse, dtype, order, copy, force_all_finite, ensure_2d, allow_nd, ensure_min_samples, ensure_min_features, estimator)\u001b[0m\n\u001b[0;32m    667\u001b[0m         \u001b[0mn_samples\u001b[0m \u001b[1;33m=\u001b[0m \u001b[0m_num_samples\u001b[0m\u001b[1;33m(\u001b[0m\u001b[0marray\u001b[0m\u001b[1;33m)\u001b[0m\u001b[1;33m\u001b[0m\u001b[1;33m\u001b[0m\u001b[0m\n\u001b[0;32m    668\u001b[0m         \u001b[1;32mif\u001b[0m \u001b[0mn_samples\u001b[0m \u001b[1;33m<\u001b[0m \u001b[0mensure_min_samples\u001b[0m\u001b[1;33m:\u001b[0m\u001b[1;33m\u001b[0m\u001b[1;33m\u001b[0m\u001b[0m\n\u001b[1;32m--> 669\u001b[1;33m             raise ValueError(\"Found array with %d sample(s) (shape=%s) while a\"\n\u001b[0m\u001b[0;32m    670\u001b[0m                              \u001b[1;34m\" minimum of %d is required%s.\"\u001b[0m\u001b[1;33m\u001b[0m\u001b[1;33m\u001b[0m\u001b[0m\n\u001b[0;32m    671\u001b[0m                              % (n_samples, array.shape, ensure_min_samples,\n",
      "\u001b[1;31mValueError\u001b[0m: Found array with 0 sample(s) (shape=(0, 1417)) while a minimum of 1 is required."
     ]
    }
   ],
   "source": [
    "from sklearn import decomposition\n",
    "pca=decomposition.PCA()\n",
    "pca.fit(x)"
   ]
  },
  {
   "cell_type": "markdown",
   "id": "403949ac",
   "metadata": {},
   "source": [
    "How many PC do we need in order to explain the 95% of the variance?"
   ]
  },
  {
   "cell_type": "code",
   "execution_count": null,
   "id": "585fa3f6",
   "metadata": {},
   "outputs": [],
   "source": [
    "expl=pca.explained_variance_ratio_\n",
    "cdf=[sum(expl[:i+1]) for i in range(len(expl))]\n",
    "plt.figure(4)\n",
    "plt.plot(range(len(expl)), cdf,color='b')\n",
    "plt.axhline(y=0.95, color='r', linestyle='-')\n",
    "plt.show()"
   ]
  },
  {
   "cell_type": "code",
   "execution_count": null,
   "id": "5a9fbb2d",
   "metadata": {},
   "outputs": [],
   "source": [
    "print(cdf[219])"
   ]
  },
  {
   "cell_type": "markdown",
   "id": "3ff82dda",
   "metadata": {},
   "source": [
    "It seems that with 220 features corresponding to the first 220 PC, 95% of the variance of the data can be explained. We don't need to use 1440 columns if with just 220, we can mainly explain the variance of the data. The loss of information is very small in this case."
   ]
  },
  {
   "cell_type": "markdown",
   "id": "4320f7d8",
   "metadata": {},
   "source": [
    "### Creating a new dataset with the 220 first principal components"
   ]
  },
  {
   "cell_type": "code",
   "execution_count": null,
   "id": "b348450b",
   "metadata": {},
   "outputs": [],
   "source": [
    "pca_new=decomposition.PCA(n_components=220)\n",
    "pca_new.fit(x)\n",
    "X_reduced=pca_new.transform(x)"
   ]
  },
  {
   "cell_type": "code",
   "execution_count": null,
   "id": "e0480797",
   "metadata": {},
   "outputs": [],
   "source": [
    "X_df_reduced=pd.DataFrame(X_reduced)\n",
    "X_df_reduced"
   ]
  },
  {
   "cell_type": "code",
   "execution_count": null,
   "id": "e7483363",
   "metadata": {},
   "outputs": [],
   "source": [
    "X_df_reduced.index=df_lagged.index"
   ]
  },
  {
   "cell_type": "markdown",
   "id": "54f30a0e",
   "metadata": {},
   "source": [
    "# Part 1\n",
    "## Linear Regression Model - free train/test splitting"
   ]
  },
  {
   "cell_type": "markdown",
   "id": "2f9b3b6e",
   "metadata": {},
   "source": [
    "For performing the prediction, a regression model is going to be used. The Sklearn Linear Regression is going to be used"
   ]
  },
  {
   "cell_type": "code",
   "execution_count": null,
   "id": "6f34fe1d",
   "metadata": {},
   "outputs": [],
   "source": [
    "split=int(0.7*len(X_df_reduced))\n",
    "x_train=X_df_reduced[:split]\n",
    "y_train=y[:split]\n",
    "x_test=X_df_reduced[split:]\n",
    "y_test=y[split:]"
   ]
  },
  {
   "cell_type": "code",
   "execution_count": null,
   "id": "157fa6d7",
   "metadata": {},
   "outputs": [],
   "source": [
    "from sklearn.linear_model import LinearRegression\n",
    "regr=LinearRegression()\n",
    "regr.fit(x_train,y_train)"
   ]
  },
  {
   "cell_type": "markdown",
   "id": "f072caa1",
   "metadata": {},
   "source": [
    "We create a function for calculating the R squared of the model and other measures (see Appendix 2). "
   ]
  },
  {
   "cell_type": "code",
   "execution_count": null,
   "id": "065f7155",
   "metadata": {},
   "outputs": [],
   "source": [
    "mae, mape, rmse, r_squared, adjustedr2 = compute_error(y_test, regr.predict(x_test))\n",
    "\n",
    "print(\"Mean Absolute Error = \", mae)\n",
    "print(\"Mean Absolute Percentage Error = \", mape)\n",
    "print(\"R-squared = \", r_squared)\n",
    "print(\"Adjusted R-squared = \", adjustedr2)\n",
    "print(\"Root Mean Squared Error = \", rmse)"
   ]
  },
  {
   "cell_type": "markdown",
   "id": "5c50b439",
   "metadata": {},
   "source": [
    "The model performed gets an R2 > 0.70. It can been accepted."
   ]
  },
  {
   "cell_type": "markdown",
   "id": "1d5e6139",
   "metadata": {},
   "source": [
    "# Part 2\n",
    "## Linear Regression Model - specific train/test splitting"
   ]
  },
  {
   "cell_type": "code",
   "execution_count": null,
   "id": "472e5560",
   "metadata": {},
   "outputs": [],
   "source": [
    "X_df_reduced=X_df_reduced.reset_index(level=[0,1])\n",
    "trainset_start=X_df_reduced[(X_df_reduced['date']=='2018-11-01')& (X_df_reduced['hour']==0)].index\n",
    "trainset_start=trainset_start.values[0]"
   ]
  },
  {
   "cell_type": "code",
   "execution_count": null,
   "id": "29fc467c",
   "metadata": {},
   "outputs": [],
   "source": [
    "x_test2=X_df_reduced.iloc[:trainset_start,2:]\n",
    "x_train2=X_df_reduced.iloc[trainset_start:,2:]\n",
    "y_test2=y.iloc[:trainset_start]\n",
    "y_train2=y.iloc[trainset_start:]"
   ]
  },
  {
   "cell_type": "code",
   "execution_count": null,
   "id": "34f47557",
   "metadata": {},
   "outputs": [],
   "source": [
    "from sklearn.linear_model import LinearRegression\n",
    "regr2=LinearRegression()\n",
    "regr2.fit(x_train2,y_train2)"
   ]
  },
  {
   "cell_type": "code",
   "execution_count": null,
   "id": "07630726",
   "metadata": {},
   "outputs": [],
   "source": [
    "mae, mape, rmse, r_squared, adjustedr2 = compute_error(y_test2, regr2.predict(x_test2))\n",
    "\n",
    "print(\"Mean Absolute Error = \", mae)\n",
    "print(\"Mean Absolute Percentage Error = \", mape)\n",
    "print(\"R-squared = \", r_squared)\n",
    "print(\"Adjusted R-squared = \", adjustedr2)\n",
    "print(\"Root Mean Squared Error = \", rmse)"
   ]
  },
  {
   "cell_type": "markdown",
   "id": "c6a1c604",
   "metadata": {},
   "source": [
    "R-squared is a statistical measure of how close the data are to the fitted regression line. Getting a R-squared of 0 means that the model explains none of the variability of the response data around its mean. Using just the mean of the pickups per day would be even a better prediction in this case. This model can't obviously be considered as a useful model."
   ]
  },
  {
   "cell_type": "markdown",
   "id": "b4a82e6e",
   "metadata": {},
   "source": [
    "A possible reason for the low score could be that the train distribution is different than the test distribution. In order to consider this hypothesis and perform testing on how much this train-test distribution mismatch is affecting the results, we tried ignoring the temporal order of the observations and shuffling the dataset to perform a random split. \n",
    "\n",
    "As it can be observed in Appendix 3, shuffling the dataset is not giving better results (R-squared =  0). This could be a deeper subject for analysis to get the causes. Further explanation can be found in the Appendix 3. "
   ]
  },
  {
   "cell_type": "code",
   "execution_count": null,
   "id": "34747820",
   "metadata": {},
   "outputs": [],
   "source": [
    "from sklearn.linear_model import LinearRegression\n",
    "regr3=LinearRegression()\n",
    "regr3.fit(x_train3,y_train3)"
   ]
  },
  {
   "cell_type": "markdown",
   "id": "0eb3a78b",
   "metadata": {},
   "source": [
    "## Appendix 3"
   ]
  },
  {
   "cell_type": "code",
   "execution_count": null,
   "id": "dcaa525c",
   "metadata": {},
   "outputs": [],
   "source": [
    "import sklearn\n",
    "from sklearn.utils import shuffle\n",
    "x_and_y=sklearn.utils.shuffle(x_and_y)\n",
    "y=x_and_y['pickups']"
   ]
  },
  {
   "cell_type": "code",
   "execution_count": null,
   "id": "6215959f",
   "metadata": {},
   "outputs": [],
   "source": [
    "len_train=len(x_train2)\n",
    "len_test=len(x_test2)\n",
    "x_test3=x_and_y.iloc[:len_test,1:]\n",
    "x_train3=x_and_y.iloc[len_test:,1:]\n",
    "y_test3=y[:len_test]\n",
    "y_train3=y[len_test:]"
   ]
  },
  {
   "cell_type": "code",
   "execution_count": null,
   "id": "c6511730",
   "metadata": {},
   "outputs": [],
   "source": [
    "from sklearn.linear_model import LinearRegression\n",
    "regr3=LinearRegression()\n",
    "regr3.fit(x_train3,y_train3)"
   ]
  },
  {
   "cell_type": "code",
   "execution_count": null,
   "id": "832ec960",
   "metadata": {},
   "outputs": [],
   "source": [
    "mae, mape, rmse, r_squared, adjustedr2 = compute_error(y_test3, regr3.predict(x_test3))\n",
    "\n",
    "print(\"Mean Absolute Error = \", mae)\n",
    "print(\"Mean Absolute Percentage Error = \", mape)\n",
    "print(\"R-squared = \", r_squared)\n",
    "print(\"Adjusted R-squared = \", adjustedr2)\n",
    "print(\"Root Mean Squared Error = \", rmse)"
   ]
  },
  {
   "cell_type": "markdown",
   "id": "9ed58b72",
   "metadata": {},
   "source": [
    "We have also performed other test training with 3 months instead of 2 months. Those results have been better and the bigger the train set, higher the scores obtained. So in this case we are going to consider that training a model with the last two months of a year in order to predict the first 10 months of the year can't be considered as a good approach to build a model. Because of the difference of distributions of train/test data but also and mainly because of the train/test size difference. With just 2 months of training data, the model doesn't seem to be able to perform correct predictions. \n",
    "\n",
    "When we train a machine learning model, we don’t just want it to learn to model the training data. We want it to generalize to data it hasn’t seen before. In order to perform good prediction on the the new data, the goal of a machine learning model is to generalize patterns in training data so that you can correctly predict. Working with small training datasets can lead to 'overfitting'. Overfitting occurs when a model adjusts excessively to the training data, seeing patterns that do not exist, and consequently performing poorly in predicting new data. This could be one of the reasons our model is not working in Part 2. There are different techniques in order to prevent overfitting as using cross-validation, train with more data, remove features, early stopping, regularization or ensembling. Trying to find the adecuates ones for this prediction question could be a future topic of research to deep on it."
   ]
  },
  {
   "cell_type": "markdown",
   "id": "32c0f034",
   "metadata": {},
   "source": [
    "## End of Appendix 3"
   ]
  },
  {
   "cell_type": "markdown",
   "id": "310f58b1",
   "metadata": {},
   "source": [
    "# Section 3: Exploratory Component"
   ]
  },
  {
   "cell_type": "markdown",
   "id": "23deebb0",
   "metadata": {},
   "source": [
    "Unlike on the previous question, in this section we are going to try the determine the influence of the environmental, periodic and seasonal trends in the number of pickups. This information could help to better perform future predictions adding those data to the inputs."
   ]
  },
  {
   "cell_type": "markdown",
   "id": "45c39b98",
   "metadata": {},
   "source": [
    "On this purpose, we are going to use some extra information that it was not on the original dataset.\n",
    "- A file containing weather information of New York during 2018. Unfortunately, this file only contains daily information so our analysis has to be reduced to daily numbers of pickups instead of doing it per hour.\n",
    "- Holidays days in New York are also going to be included loading a holidays file. \n",
    "- Additionally, some trends indicators are going to be added as if it is a weekend day or not or the season of the year it is.\n",
    "\n",
    "The aim of adding this information is because it is simple information that can be very easily obtained and in case of determinig that it is useful, it could help in future predictions decreasing the errors with low effort of obtaining them. "
   ]
  },
  {
   "cell_type": "markdown",
   "id": "95d4f65e",
   "metadata": {},
   "source": [
    "## New data"
   ]
  },
  {
   "cell_type": "code",
   "execution_count": null,
   "id": "892bdee5",
   "metadata": {},
   "outputs": [],
   "source": [
    "weather=pd.read_csv('weather_2018.csv')\n",
    "weather.head()"
   ]
  },
  {
   "cell_type": "code",
   "execution_count": null,
   "id": "902497df",
   "metadata": {},
   "outputs": [],
   "source": [
    "weather['avg_degree']=(weather['average temperature']-32)/1.8\n",
    "weather=weather.set_index('date')"
   ]
  },
  {
   "cell_type": "markdown",
   "id": "573a086b",
   "metadata": {},
   "source": [
    "Some transformation to have ºC instead of ºF"
   ]
  },
  {
   "cell_type": "code",
   "execution_count": null,
   "id": "70dc17b9",
   "metadata": {},
   "outputs": [],
   "source": [
    "weather['precipitation']=weather['precipitation'].replace({'T':0.00})\n",
    "weather['precipitation']=weather['precipitation'].replace({'0':0.00})"
   ]
  },
  {
   "cell_type": "markdown",
   "id": "9e02230a",
   "metadata": {},
   "source": [
    "Some values are presented as 'T' which represents traces but so low that couldn't be measured. They are replaced by a 0 value instead"
   ]
  },
  {
   "cell_type": "code",
   "execution_count": null,
   "id": "61f63c96",
   "metadata": {},
   "outputs": [],
   "source": [
    "weather=weather.drop(columns=['maximum temperature','minimum temperature','snow depth','snow fall','average temperature','Unnamed: 0'])\n",
    "weather.head()"
   ]
  },
  {
   "cell_type": "markdown",
   "id": "e15848a8",
   "metadata": {},
   "source": [
    "We are just going to focus on the temperature data and in the presence or absence of rain."
   ]
  },
  {
   "cell_type": "code",
   "execution_count": null,
   "id": "65cde99f",
   "metadata": {},
   "outputs": [],
   "source": [
    "holidays=pd.read_csv('holidays_2018.csv')\n",
    "holidays.head()"
   ]
  },
  {
   "cell_type": "code",
   "execution_count": null,
   "id": "1a6bfa67",
   "metadata": {},
   "outputs": [],
   "source": [
    "holidays=holidays.set_index('Date')\n",
    "holidays=holidays.drop(columns=['Day','Unnamed: 0','Holiday'])\n",
    "holidays['holiday']=1"
   ]
  },
  {
   "cell_type": "code",
   "execution_count": null,
   "id": "ddbc8340",
   "metadata": {},
   "outputs": [],
   "source": [
    "data_exp=df.groupby(['date'])['pickup'].count()\n",
    "df_exp=pd.DataFrame(data_exp)\n",
    "df_exp.head()"
   ]
  },
  {
   "cell_type": "code",
   "execution_count": null,
   "id": "0ec31970",
   "metadata": {},
   "outputs": [],
   "source": [
    "df_exp=df_exp.merge(weather, on=weather.index)\n",
    "df_exp=df_exp.set_index('key_0')"
   ]
  },
  {
   "cell_type": "code",
   "execution_count": null,
   "id": "8ea81c96",
   "metadata": {},
   "outputs": [],
   "source": [
    "df_exp['weekend'] = ((pd.DatetimeIndex(df_exp.index).dayofweek) // 5 == 1).astype(int)\n",
    "df_exp['holiday']=0\n",
    "for i in holidays.index:\n",
    "    df_exp.loc[i,'holiday']=1\n",
    "df_exp.index.names=['Date']"
   ]
  },
  {
   "cell_type": "code",
   "execution_count": null,
   "id": "f43e8a9b",
   "metadata": {},
   "outputs": [],
   "source": [
    "df_exp.index=pd.to_datetime(df_exp.index)\n",
    "seasons = [1, 1, 2, 2, 2, 3, 3, 3, 4, 4, 4, 1]\n",
    "month_to_season = dict(zip(range(1,13), seasons))\n",
    "df_exp['season']=df_exp.index.month.map(month_to_season)"
   ]
  },
  {
   "cell_type": "markdown",
   "id": "6a1c5274",
   "metadata": {},
   "source": [
    "A DataFrame has been generated containing the number of pickups per day, the rain indicator, the average temperature, a weekend indicator, a holiday indicator and a season indicator. "
   ]
  },
  {
   "cell_type": "markdown",
   "id": "b1438896",
   "metadata": {},
   "source": [
    "## Behavior correlation"
   ]
  },
  {
   "cell_type": "markdown",
   "id": "a3a94e9a",
   "metadata": {},
   "source": [
    "Some comparisons are going to be performed in order to identify different patterns depending on the new data added:\n"
   ]
  },
  {
   "cell_type": "markdown",
   "id": "7447b446",
   "metadata": {},
   "source": [
    "### Number of pickups depending on the day type"
   ]
  },
  {
   "cell_type": "markdown",
   "id": "ac93eb3d",
   "metadata": {},
   "source": [
    "The bike-sharing system could be used mostly for 2 special types of travels: amusement or routine travels (office, school, gym...)"
   ]
  },
  {
   "cell_type": "code",
   "execution_count": null,
   "id": "697d9dc5",
   "metadata": {},
   "outputs": [],
   "source": [
    "plt.figure()\n",
    "plt.figure(figsize=(15,5))\n",
    "plt.bar(average_pickups_hour.index,average_pickups_hour['pickups'])\n",
    "plt.axhline(y=3000,color='b')\n",
    "plt.vlines([18,8,9,16,17,19],ymin=0,ymax=5000,color='b')\n",
    "plt.show()"
   ]
  },
  {
   "cell_type": "markdown",
   "id": "33618e89",
   "metadata": {},
   "source": [
    "The highest numbers per hour are achieved in the hours were people use to performs those routine travels described above. In order to go deep on this believe, more analysis depending on the day type are going to be performed."
   ]
  },
  {
   "cell_type": "code",
   "execution_count": null,
   "id": "859dae0e",
   "metadata": {},
   "outputs": [],
   "source": [
    "weekend=['Not weekend','Weekend']\n",
    "plt.figure(4)\n",
    "plt.bar(weekend,df_exp.groupby('weekend')['pickup'].sum()/df_exp.groupby('weekend')['pickup'].count())"
   ]
  },
  {
   "cell_type": "markdown",
   "id": "8c13264b",
   "metadata": {},
   "source": [
    "Against 'intuitive' logic, the average number of pickups is a 25% higher during the week than in weekends."
   ]
  },
  {
   "cell_type": "code",
   "execution_count": null,
   "id": "da5eab87",
   "metadata": {},
   "outputs": [],
   "source": [
    "holiday=['Not holiday','Holiday']\n",
    "plt.figure(2)\n",
    "plt.bar(holiday,df_exp.groupby('holiday')['pickup'].sum()/df_exp.groupby('holiday')['pickup'].count())"
   ]
  },
  {
   "cell_type": "markdown",
   "id": "23c7ab90",
   "metadata": {},
   "source": [
    "Apparently, there is no relation between being a holiday and an increase of the number of pickups. In fact, there is a slight decrease in the average number of pickups. This could be explained, along with the weekend analysis, because this bike-sharing is highly used also for routine and usual transportation (work, school...)"
   ]
  },
  {
   "cell_type": "markdown",
   "id": "bfac8b53",
   "metadata": {},
   "source": [
    "### Number of pickups depending on seasonal weather"
   ]
  },
  {
   "cell_type": "markdown",
   "id": "eb9242ed",
   "metadata": {},
   "source": [
    "The number of pickups could depend on the weather conditions as biking means being exposed to weather conditions."
   ]
  },
  {
   "cell_type": "code",
   "execution_count": null,
   "id": "537fa4d8",
   "metadata": {},
   "outputs": [],
   "source": [
    "seasons=['Winter','Spring','Summer','Autumn']\n",
    "plt.figure(1)\n",
    "plt.bar(seasons,df_exp.groupby('season')['pickup'].sum())"
   ]
  },
  {
   "cell_type": "markdown",
   "id": "846abc4b",
   "metadata": {},
   "source": [
    "The total number of pickups varies depending on the season of the year. Summer has the highest average while winter has the lowest one. This could be related to weather conditions as temperature or rain depending on the season. "
   ]
  },
  {
   "cell_type": "code",
   "execution_count": null,
   "id": "d3ec48fa",
   "metadata": {},
   "outputs": [],
   "source": [
    "rain_days=df_exp[df_exp['precipitation']>0]\n",
    "pickups_day=df.groupby(['date'])['pickup'].count()\n",
    "plt.figure(5)\n",
    "plt.plot(pickups_day.index,pickups_day)\n",
    "plt.scatter(rain_days.index,rain_days['pickup'],c='b')"
   ]
  },
  {
   "cell_type": "markdown",
   "id": "601b1970",
   "metadata": {},
   "source": [
    "Apparently there is no clear pattern indicating that raining days decrease the number of pickups. However, the plot above doesn't allow to precisely relate information since it represents a high number of days and the representation can be unclear. To verify this information, some correlations calculations are going to performed. "
   ]
  },
  {
   "cell_type": "code",
   "execution_count": null,
   "id": "55ce9dc1",
   "metadata": {},
   "outputs": [],
   "source": [
    "import seaborn as sn\n",
    "data=df_exp[['pickup','precipitation']]\n",
    "corrMatrix=data.corr()\n",
    "sn.heatmap(corrMatrix, annot=True)\n",
    "plt.show()"
   ]
  },
  {
   "cell_type": "markdown",
   "id": "bef6ebcc",
   "metadata": {},
   "source": [
    "We can confirm that precipitations aren't too correlated with the precipitation levels. This could be explained as the bike-sharing system is mainly used for necessary displacements."
   ]
  },
  {
   "cell_type": "markdown",
   "id": "b9b09475",
   "metadata": {},
   "source": [
    "Performing some research analysis, it has been verified that apparently, when talking about weather 'problems' of NYC, the main problem comes with the temperature and its cold values in some seasons. We can verify then if as it's said, the temperature has a relevant role in the number of pickups. "
   ]
  },
  {
   "cell_type": "code",
   "execution_count": null,
   "id": "8a249412",
   "metadata": {},
   "outputs": [],
   "source": [
    "data2=df_exp[['pickup','avg_degree']]\n",
    "corrMatrix2=data2.corr()\n",
    "sn.heatmap(corrMatrix2, annot=True)\n",
    "plt.show()"
   ]
  },
  {
   "cell_type": "markdown",
   "id": "30443e0d",
   "metadata": {},
   "source": [
    "We observe that there is a relation between temperature and number of pickups. This means that in warm days people are more prone to use the bike than in cold days."
   ]
  },
  {
   "cell_type": "markdown",
   "id": "a22df41e",
   "metadata": {},
   "source": [
    "# Section4: Conclusions"
   ]
  },
  {
   "cell_type": "markdown",
   "id": "f7c10c8a",
   "metadata": {},
   "source": [
    "First of all, the dataset has been transformed to a clean one. Observations with missing values have been deleted. Values detected as outliers for columns as 'tripduration' or the geografical coordinates have been removed. Categorical features have been transformed with one-out-of-K encoding and dates formats have been converted to datetime format. "
   ]
  },
  {
   "cell_type": "markdown",
   "id": "1d4d6288",
   "metadata": {},
   "source": [
    "For the prediction challenge, a \"new\" dataset with lagged values has been created. \n",
    "\n",
    "For Part 1, next 24 hours have been predicted using 2 months of lagged data. The R2 obtained is 0.75 which is higher than the benchmark.\n",
    "\n",
    "However, on Part 2, 10 first month have been predicted using last 2 months. The R2 value is 0 so it means the model doesn't predict better than just using the mean of the pickups. Dataset has been shuffled in order to test if the different distribution between train/test sets is the cause, but new results have not improved the previous ones. \n",
    "As it has been mentionned, this can be caused by trying to train a model with such low ammount of data. In those cases, the model obtained is not able to be generalized to other data. It could happen that the model is overfitted, as it has been explained. "
   ]
  },
  {
   "cell_type": "markdown",
   "id": "389683ad",
   "metadata": {},
   "source": [
    "Finally, on the Exploratory Component part, new external internet source data has been added to the dataset: holidays and weather data. The goal was to determine the influence of the environmental, the periodic and the seasonal trends in the number of pickups. \n",
    "\n",
    "It has been detected that this bike sharing system is mostly used for necessary and routine travels rather than amusement ones. Moreover, it has been observed that the average number of pickups strongly deppends on the season of the year. Not so much because of the rain, but mainly because of the temperature. The highest the temperature, highest the number of pickups.\n",
    "\n",
    "This new information could help to perform better predictions just by adding features representing the predictions of temperature or indicators of rush hours."
   ]
  },
  {
   "cell_type": "markdown",
   "id": "f74cf169",
   "metadata": {},
   "source": [
    "# Individual contributions\n",
    "We decided that we were going to do this group project all together, thus every individual contribution is the same: 33.33% for each one of us. \n",
    "- Carles Alfageme: 33.33%\n",
    "- Joos Benrath: 33.33%\n",
    "- Elena Vico: 33.33%"
   ]
  }
 ],
 "metadata": {
  "kernelspec": {
   "display_name": "Python 3",
   "language": "python",
   "name": "python3"
  },
  "language_info": {
   "codemirror_mode": {
    "name": "ipython",
    "version": 3
   },
   "file_extension": ".py",
   "mimetype": "text/x-python",
   "name": "python",
   "nbconvert_exporter": "python",
   "pygments_lexer": "ipython3",
   "version": "3.8.8"
  }
 },
 "nbformat": 4,
 "nbformat_minor": 5
}
